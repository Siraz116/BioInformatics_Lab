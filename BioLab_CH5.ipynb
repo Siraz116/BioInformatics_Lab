{
 "cells": [
  {
   "cell_type": "markdown",
   "metadata": {},
   "source": [
    "### 5A"
   ]
  },
  {
   "cell_type": "code",
   "execution_count": 1,
   "metadata": {},
   "outputs": [
    {
     "name": "stdout",
     "output_type": "stream",
     "text": [
      "2\n"
     ]
    }
   ],
   "source": [
    "total = 40\n",
    "coin = [1,5,10,20,25,50]\n",
    "dp = [total+100]*(total + 1)\n",
    "dp[0]=0\n",
    "\n",
    "for i in range(1,total+1):\n",
    "  for j in coin:\n",
    "    if i == j :\n",
    "      dp[i]=1\n",
    "    elif j<i :\n",
    "        dp[i]= min(dp[i], dp[i-j]+1)\n",
    "\n",
    "print(dp[total])\n"
   ]
  },
  {
   "cell_type": "markdown",
   "metadata": {},
   "source": [
    "### 5C"
   ]
  },
  {
   "cell_type": "code",
   "execution_count": 3,
   "metadata": {},
   "outputs": [
    {
     "name": "stdout",
     "output_type": "stream",
     "text": [
      "Longest Common Subsequence: ACCTGG\n"
     ]
    }
   ],
   "source": [
    "# implemented by Sirazul Islam \n",
    "\n",
    "def Subsequence(str1,str2):\n",
    "  str1 = \" \"+str1 \n",
    "  str2 = \" \"+ str2 \n",
    "  n = len(str1)\n",
    "  m = len(str2) \n",
    "  dp = [[0]*m for i in range(n)]\n",
    "\n",
    "  for i in range(1,n):\n",
    "    for j in range(1,m):\n",
    "      if str1[i] == str2[j]:\n",
    "        dp[i][j]=dp[i-1][j-1] +1\n",
    "      else :\n",
    "        dp[i][j] = max(dp[i-1][j], dp[i][j-1])\n",
    "  # print(dp[n-1][m-1])\n",
    "\n",
    "  i = n-1\n",
    "  j= m-1\n",
    "  lcs = \"\"\n",
    "  while i>0 and j>0 :\n",
    "    if str1[i] == str2[j] :\n",
    "      lcs += str1[i]\n",
    "      i -= 1\n",
    "      j -= 1\n",
    "    elif dp[i-1][j] > dp[i][j-1]:\n",
    "      i -=1 \n",
    "    else :\n",
    "      j-=1\n",
    "  return lcs[::-1]\n",
    "\n",
    "\n",
    "str1 = \"AACCTTGG\"\n",
    "str2 = \"ACACTGTGA\"\n",
    "result = Subsequence(str1, str2)\n",
    "print(\"Longest Common Subsequence:\", result)"
   ]
  },
  {
   "cell_type": "markdown",
   "metadata": {},
   "source": [
    "### 5G"
   ]
  },
  {
   "cell_type": "code",
   "execution_count": 2,
   "metadata": {},
   "outputs": [
    {
     "data": {
      "text/plain": [
       "5"
      ]
     },
     "execution_count": 2,
     "metadata": {},
     "output_type": "execute_result"
    }
   ],
   "source": [
    "x = \"PLEASANTLY\"\n",
    "y = \"MEANLY\" \n",
    "def distance(x,y):\n",
    "    n = len(x) +1\n",
    "    m = len(y) +1 \n",
    "    dp = [[0]*m for i in range(n)]\n",
    "    dp[0][0] = 0\n",
    "    # print(dp)\n",
    "\n",
    "    for i in range(0,n):\n",
    "        dp[i][0] = i \n",
    "    for j in range(0,m) :\n",
    "        dp[0][j] = j \n",
    "    # print(dp)\n",
    "\n",
    "    X = 'a'+x \n",
    "    Y = 'a'+y \n",
    "    for i in range(1,n):\n",
    "        for j in range(1,m) :\n",
    "            if X[i] == Y[j] :\n",
    "                dp[i][j]= dp[i-1][j-1]\n",
    "            else :\n",
    "                dp[i][j]= min(dp[i-1][j-1], min(dp[i-1][j],dp[i][j-1])) +1\n",
    "    #print(dp)\n",
    "    return dp[n-1][m-1]\n",
    "\n",
    "\n",
    "\n",
    "ans = distance(x,y)\n",
    "ans\n"
   ]
  }
 ],
 "metadata": {
  "kernelspec": {
   "display_name": "Python 3",
   "language": "python",
   "name": "python3"
  },
  "language_info": {
   "codemirror_mode": {
    "name": "ipython",
    "version": 3
   },
   "file_extension": ".py",
   "mimetype": "text/x-python",
   "name": "python",
   "nbconvert_exporter": "python",
   "pygments_lexer": "ipython3",
   "version": "3.10.12"
  }
 },
 "nbformat": 4,
 "nbformat_minor": 2
}
